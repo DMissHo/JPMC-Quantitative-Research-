{
 "cells": [
  {
   "cell_type": "code",
   "execution_count": 3,
   "id": "a9d8babc",
   "metadata": {},
   "outputs": [
    {
     "name": "stdout",
     "output_type": "stream",
     "text": [
      "[[ 8.18520373  0.54490854  0.01994244 -2.77630853 -0.02418391]] [-0.09162643]\n",
      "0.0037\n",
      "0.9925106069101026\n"
     ]
    }
   ],
   "source": [
    "from sklearn.linear_model import LogisticRegression\n",
    "from sklearn import metrics\n",
    "import numpy as np\n",
    "import pandas as pd\n",
    "\n",
    "# Read in loan data from a CSV file\n",
    "df = pd.read_csv(\"C:\\\\Users\\\\user\\\\Desktop\\\\Investment Banking Intern\\\\Quantitative Research\\\\Task 3 and 4_Loan_Data.csv\")\n",
    "\n",
    "# Define the variable features\n",
    "features = ['credit_lines_outstanding', 'debt_to_income', 'payment_to_income', 'years_employed', 'fico_score']\n",
    "\n",
    "# Calculate the payment_to_income ratio\n",
    "df['payment_to_income'] = df['loan_amt_outstanding'] / df['income']\n",
    "    \n",
    "# Calculate the debt_to_income ratio\n",
    "df['debt_to_income'] = df['total_debt_outstanding'] / df['income']\n",
    "\n",
    "clf = LogisticRegression(random_state=0, solver='liblinear', tol=1e-5, max_iter=10000).fit(df[features], df['default'])\n",
    "print(clf.coef_, clf.intercept_)\n",
    "\n",
    "# Use the following code to check yourself\n",
    "y_pred = clf.predict(df[features])\n",
    "\n",
    "fpr, tpr, thresholds = metrics.roc_curve(df['default'], y_pred)\n",
    "print((1.0*(abs(df['default']-y_pred)).sum()) / len(df))\n",
    "print(metrics.auc(fpr, tpr))\n"
   ]
  },
  {
   "cell_type": "code",
   "execution_count": 7,
   "id": "e09910ee",
   "metadata": {},
   "outputs": [
    {
     "name": "stdout",
     "output_type": "stream",
     "text": [
      "Predicted Default: [1]\n"
     ]
    }
   ],
   "source": [
    "import pandas as pd\n",
    "from sklearn.ensemble import RandomForestClassifier\n",
    "\n",
    "def train_model(df):\n",
    "    # Features and target variable\n",
    "    X = df.drop(['customer_id', 'default'], axis=1)\n",
    "    y = df['default']\n",
    "\n",
    "    # Create a Random Forest Classifier\n",
    "    clf = RandomForestClassifier(random_state=42)\n",
    "\n",
    "    # Train the model\n",
    "    clf.fit(X, y)\n",
    "\n",
    "    return clf\n",
    "\n",
    "def predict_default(model, new_customer_data):\n",
    "    # Assuming 'new_customer_data' is a DataFrame with the same columns as the training data\n",
    "    # excluding 'customer_id' and 'default'\n",
    "    new_customer_pred = model.predict(new_customer_data)\n",
    "    return new_customer_pred\n",
    "\n",
    "# Sample data for demonstration purposes\n",
    "data = {\n",
    "    'customer_id': [1, 2, 3, 4, 5],\n",
    "    'credit_lines_outstanding': [2, 1, 3, 1, 2],\n",
    "    'loan_amt_outstanding': [5000, 2000, 8000, 1500, 3000],\n",
    "    'total_debt_outstanding': [3000, 1000, 4000, 800, 1500],\n",
    "    'income': [50000, 20000, 70000, 18000, 35000],\n",
    "    'years_employed': [3, 1, 5, 0.5, 2],\n",
    "    'fico_score': [700, 600, 750, 580, 680],\n",
    "    'default': [0, 1, 0, 1, 0]  # 0 means no default, 1 means default\n",
    "}\n",
    "\n",
    "df = pd.DataFrame(data)\n",
    "\n",
    "# Train the model\n",
    "trained_model = train_model(df)\n",
    "\n",
    "# Example: Predict default for a new customer\n",
    "new_customer_data = pd.DataFrame({\n",
    "    'credit_lines_outstanding': [0],\n",
    "    'loan_amt_outstanding': [4000],\n",
    "    'total_debt_outstanding': [4500],\n",
    "    'income': [1000],\n",
    "    'years_employed': [2],\n",
    "    'fico_score': [0]\n",
    "})\n",
    "\n",
    "# Predict default for the new customer\n",
    "new_customer_pred = predict_default(trained_model, new_customer_data)\n",
    "print(f\"Predicted Default: {new_customer_pred}\")\n",
    "\n"
   ]
  }
 ],
 "metadata": {
  "kernelspec": {
   "display_name": "Python 3 (ipykernel)",
   "language": "python",
   "name": "python3"
  },
  "language_info": {
   "codemirror_mode": {
    "name": "ipython",
    "version": 3
   },
   "file_extension": ".py",
   "mimetype": "text/x-python",
   "name": "python",
   "nbconvert_exporter": "python",
   "pygments_lexer": "ipython3",
   "version": "3.11.5"
  }
 },
 "nbformat": 4,
 "nbformat_minor": 5
}
