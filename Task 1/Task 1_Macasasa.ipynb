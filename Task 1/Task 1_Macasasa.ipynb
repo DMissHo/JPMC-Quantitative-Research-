{
 "cells": [
  {
   "cell_type": "code",
   "execution_count": 1,
   "id": "62b2c6d0",
   "metadata": {},
   "outputs": [],
   "source": [
    "import numpy as np\n",
    "import pandas as pd\n",
    "import statsmodels.api as sm\n",
    "from statsmodels import regression\n",
    "import matplotlib.pyplot as plt"
   ]
  },
  {
   "cell_type": "code",
   "execution_count": 2,
   "id": "1c4fae2b",
   "metadata": {},
   "outputs": [],
   "source": [
    "df = pd.read_csv(\"C:\\\\Users\\\\user\\\\Downloads\\\\Nat_Gas.csv\")"
   ]
  },
  {
   "cell_type": "code",
   "execution_count": 3,
   "id": "e7e6752f",
   "metadata": {},
   "outputs": [
    {
     "data": {
      "text/html": [
       "<div>\n",
       "<style scoped>\n",
       "    .dataframe tbody tr th:only-of-type {\n",
       "        vertical-align: middle;\n",
       "    }\n",
       "\n",
       "    .dataframe tbody tr th {\n",
       "        vertical-align: top;\n",
       "    }\n",
       "\n",
       "    .dataframe thead th {\n",
       "        text-align: right;\n",
       "    }\n",
       "</style>\n",
       "<table border=\"1\" class=\"dataframe\">\n",
       "  <thead>\n",
       "    <tr style=\"text-align: right;\">\n",
       "      <th></th>\n",
       "      <th>Prices</th>\n",
       "    </tr>\n",
       "  </thead>\n",
       "  <tbody>\n",
       "    <tr>\n",
       "      <th>count</th>\n",
       "      <td>48.000000</td>\n",
       "    </tr>\n",
       "    <tr>\n",
       "      <th>mean</th>\n",
       "      <td>11.207083</td>\n",
       "    </tr>\n",
       "    <tr>\n",
       "      <th>std</th>\n",
       "      <td>0.757897</td>\n",
       "    </tr>\n",
       "    <tr>\n",
       "      <th>min</th>\n",
       "      <td>9.840000</td>\n",
       "    </tr>\n",
       "    <tr>\n",
       "      <th>25%</th>\n",
       "      <td>10.650000</td>\n",
       "    </tr>\n",
       "    <tr>\n",
       "      <th>50%</th>\n",
       "      <td>11.300000</td>\n",
       "    </tr>\n",
       "    <tr>\n",
       "      <th>75%</th>\n",
       "      <td>11.625000</td>\n",
       "    </tr>\n",
       "    <tr>\n",
       "      <th>max</th>\n",
       "      <td>12.800000</td>\n",
       "    </tr>\n",
       "  </tbody>\n",
       "</table>\n",
       "</div>"
      ],
      "text/plain": [
       "          Prices\n",
       "count  48.000000\n",
       "mean   11.207083\n",
       "std     0.757897\n",
       "min     9.840000\n",
       "25%    10.650000\n",
       "50%    11.300000\n",
       "75%    11.625000\n",
       "max    12.800000"
      ]
     },
     "execution_count": 3,
     "metadata": {},
     "output_type": "execute_result"
    }
   ],
   "source": [
    "df.describe()"
   ]
  },
  {
   "cell_type": "code",
   "execution_count": 4,
   "id": "f1c29215",
   "metadata": {},
   "outputs": [
    {
     "name": "stdout",
     "output_type": "stream",
     "text": [
      "<class 'pandas.core.frame.DataFrame'>\n",
      "RangeIndex: 48 entries, 0 to 47\n",
      "Data columns (total 2 columns):\n",
      " #   Column  Non-Null Count  Dtype  \n",
      "---  ------  --------------  -----  \n",
      " 0   Dates   48 non-null     object \n",
      " 1   Prices  48 non-null     float64\n",
      "dtypes: float64(1), object(1)\n",
      "memory usage: 900.0+ bytes\n"
     ]
    }
   ],
   "source": [
    "df.info()"
   ]
  },
  {
   "cell_type": "code",
   "execution_count": 5,
   "id": "a4ff472a",
   "metadata": {},
   "outputs": [
    {
     "data": {
      "text/plain": [
       "Index(['Dates', 'Prices'], dtype='object')"
      ]
     },
     "execution_count": 5,
     "metadata": {},
     "output_type": "execute_result"
    }
   ],
   "source": [
    "df.columns"
   ]
  },
  {
   "cell_type": "code",
   "execution_count": 6,
   "id": "cfb0073c",
   "metadata": {},
   "outputs": [
    {
     "name": "stdout",
     "output_type": "stream",
     "text": [
      "Original DataFrame:\n",
      "       Dates  Prices\n",
      "0   10/31/20   10.10\n",
      "1   11/30/20   10.30\n",
      "2   12/31/20   11.00\n",
      "3    1/31/21   10.90\n",
      "4    2/28/21   10.90\n",
      "5    3/31/21   10.90\n",
      "6    4/30/21   10.40\n",
      "7    5/31/21    9.84\n",
      "8    6/30/21   10.00\n",
      "9    7/31/21   10.10\n",
      "10   8/31/21   10.30\n",
      "11   9/30/21   10.20\n",
      "12  10/31/21   10.10\n",
      "13  11/30/21   11.20\n",
      "14  12/31/21   11.40\n",
      "15   1/31/22   11.50\n",
      "16   2/28/22   11.80\n",
      "17   3/31/22   11.50\n",
      "18   4/30/22   10.70\n",
      "19   5/31/22   10.70\n",
      "20   6/30/22   10.40\n",
      "21   7/31/22   10.50\n",
      "22   8/31/22   10.40\n",
      "23   9/30/22   10.80\n",
      "24  10/31/22   11.00\n",
      "25  11/30/22   11.60\n",
      "26  12/31/22   11.60\n",
      "27   1/31/23   12.10\n",
      "28   2/28/23   11.70\n",
      "29   3/31/23   12.00\n",
      "30   4/30/23   11.50\n",
      "31   5/31/23   11.20\n",
      "32   6/30/23   10.90\n",
      "33   7/31/23   11.40\n",
      "34   8/31/23   11.10\n",
      "35   9/30/23   11.50\n",
      "36  10/31/23   11.80\n",
      "37  11/30/23   12.20\n",
      "38  12/31/23   12.80\n",
      "39   1/31/24   12.60\n",
      "40   2/29/24   12.40\n",
      "41   3/31/24   12.70\n",
      "42   4/30/24   12.10\n",
      "43   5/31/24   11.40\n",
      "44   6/30/24   11.50\n",
      "45   7/31/24   11.60\n",
      "46   8/31/24   11.50\n",
      "47   9/30/24   11.80\n",
      "Enter the date (YYYY-MM-DD): 2020-10-31\n",
      "DataFrame after conversion:\n",
      "        Dates  Prices\n",
      "0  2020-10-31   10.10\n",
      "1  2020-11-30   10.30\n",
      "2  2020-12-31   11.00\n",
      "3  2021-01-31   10.90\n",
      "4  2021-02-28   10.90\n",
      "5  2021-03-31   10.90\n",
      "6  2021-04-30   10.40\n",
      "7  2021-05-31    9.84\n",
      "8  2021-06-30   10.00\n",
      "9  2021-07-31   10.10\n",
      "10 2021-08-31   10.30\n",
      "11 2021-09-30   10.20\n",
      "12 2021-10-31   10.10\n",
      "13 2021-11-30   11.20\n",
      "14 2021-12-31   11.40\n",
      "15 2022-01-31   11.50\n",
      "16 2022-02-28   11.80\n",
      "17 2022-03-31   11.50\n",
      "18 2022-04-30   10.70\n",
      "19 2022-05-31   10.70\n",
      "20 2022-06-30   10.40\n",
      "21 2022-07-31   10.50\n",
      "22 2022-08-31   10.40\n",
      "23 2022-09-30   10.80\n",
      "24 2022-10-31   11.00\n",
      "25 2022-11-30   11.60\n",
      "26 2022-12-31   11.60\n",
      "27 2023-01-31   12.10\n",
      "28 2023-02-28   11.70\n",
      "29 2023-03-31   12.00\n",
      "30 2023-04-30   11.50\n",
      "31 2023-05-31   11.20\n",
      "32 2023-06-30   10.90\n",
      "33 2023-07-31   11.40\n",
      "34 2023-08-31   11.10\n",
      "35 2023-09-30   11.50\n",
      "36 2023-10-31   11.80\n",
      "37 2023-11-30   12.20\n",
      "38 2023-12-31   12.80\n",
      "39 2024-01-31   12.60\n",
      "40 2024-02-29   12.40\n",
      "41 2024-03-31   12.70\n",
      "42 2024-04-30   12.10\n",
      "43 2024-05-31   11.40\n",
      "44 2024-06-30   11.50\n",
      "45 2024-07-31   11.60\n",
      "46 2024-08-31   11.50\n",
      "47 2024-09-30   11.80\n",
      "The price on 2020-10-31 00:00:00 is: 10.1\n"
     ]
    },
    {
     "name": "stderr",
     "output_type": "stream",
     "text": [
      "C:\\Users\\user\\AppData\\Local\\Temp\\ipykernel_16620\\3332802838.py:10: UserWarning: Could not infer format, so each element will be parsed individually, falling back to `dateutil`. To ensure parsing is consistent and as-expected, please specify a format.\n",
      "  df['Dates'] = pd.to_datetime(df['Dates'])\n"
     ]
    }
   ],
   "source": [
    "# Print the DataFrame to inspect the 'Dates' column\n",
    "print(\"Original DataFrame:\")\n",
    "print(df)\n",
    "\n",
    "# Function to print the price for a given date\n",
    "def print_price_for_date(input_date):\n",
    "    try:\n",
    "        input_date = pd.to_datetime(input_date)\n",
    "        print(\"DataFrame after conversion:\")\n",
    "        df['Dates'] = pd.to_datetime(df['Dates'])\n",
    "        print(df)\n",
    "        \n",
    "        price = df.loc[df['Dates'] == input_date, 'Prices'].values[0]\n",
    "        print(f'The price on {input_date} is: {price}')\n",
    "    except IndexError:\n",
    "        print(f'No data found for {input_date}')\n",
    "\n",
    "# Example usage\n",
    "input_date = input('Enter the date (YYYY-MM-DD): ')\n",
    "print_price_for_date(input_date)"
   ]
  },
  {
   "cell_type": "code",
   "execution_count": 8,
   "id": "8fea7fbd",
   "metadata": {},
   "outputs": [
    {
     "name": "stdout",
     "output_type": "stream",
     "text": [
      "Extrapolated Prices for One Year:\n",
      "         Dates     Prices\n",
      "0   2024-09-30  12.124835\n",
      "1   2024-10-01  12.126118\n",
      "2   2024-10-02  12.127400\n",
      "3   2024-10-03  12.128682\n",
      "4   2024-10-04  12.129965\n",
      "..         ...        ...\n",
      "360 2025-09-25  12.586490\n",
      "361 2025-09-26  12.587772\n",
      "362 2025-09-27  12.589055\n",
      "363 2025-09-28  12.590337\n",
      "364 2025-09-29  12.591619\n",
      "\n",
      "[365 rows x 2 columns]\n"
     ]
    }
   ],
   "source": [
    "from sklearn.linear_model import LinearRegression\n",
    "# Ensure 'Dates' column is in datetime format\n",
    "df['Dates'] = pd.to_datetime(df['Dates'])\n",
    "\n",
    "# Function to extrapolate prices for one year\n",
    "def extrapolate_prices():\n",
    "    # Fit a linear regression model\n",
    "    model = LinearRegression()\n",
    "    X = pd.to_numeric(df['Dates']).values.reshape(-1, 1)\n",
    "    y = df['Prices'].values\n",
    "    model.fit(X, y)\n",
    "\n",
    "    # Generate dates for the next year\n",
    "    last_date = df['Dates'].max()\n",
    "    next_year_dates = pd.date_range(last_date, periods=365, freq='D')\n",
    "\n",
    "    # Predict prices for the next year\n",
    "    next_year_prices = model.predict(pd.to_numeric(next_year_dates).values.reshape(-1, 1))\n",
    "\n",
    "    # Create a DataFrame for the extrapolated prices\n",
    "    extrapolated_df = pd.DataFrame({'Dates': next_year_dates, 'Prices': next_year_prices})\n",
    "\n",
    "    return extrapolated_df\n",
    "\n",
    "# Extrapolate prices for one year\n",
    "extrapolated_prices = extrapolate_prices()\n",
    "\n",
    "# Print the extrapolated prices\n",
    "print(\"Extrapolated Prices for One Year:\")\n",
    "print(extrapolated_prices)"
   ]
  },
  {
   "cell_type": "code",
   "execution_count": null,
   "id": "27df16ca",
   "metadata": {},
   "outputs": [],
   "source": []
  }
 ],
 "metadata": {
  "kernelspec": {
   "display_name": "Python 3 (ipykernel)",
   "language": "python",
   "name": "python3"
  },
  "language_info": {
   "codemirror_mode": {
    "name": "ipython",
    "version": 3
   },
   "file_extension": ".py",
   "mimetype": "text/x-python",
   "name": "python",
   "nbconvert_exporter": "python",
   "pygments_lexer": "ipython3",
   "version": "3.11.5"
  }
 },
 "nbformat": 4,
 "nbformat_minor": 5
}
