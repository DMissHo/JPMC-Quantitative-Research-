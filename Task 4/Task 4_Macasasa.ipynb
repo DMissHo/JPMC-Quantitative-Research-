{
 "cells": [
  {
   "cell_type": "code",
   "execution_count": 2,
   "id": "a89633ef",
   "metadata": {},
   "outputs": [
    {
     "name": "stderr",
     "output_type": "stream",
     "text": [
      "C:\\Users\\user\\anaconda3\\Lib\\site-packages\\sklearn\\cluster\\_kmeans.py:1412: FutureWarning: The default value of `n_init` will change from 10 to 'auto' in 1.4. Set the value of `n_init` explicitly to suppress the warning\n",
      "  super()._check_params_vs_input(X, default_n_init=10)\n"
     ]
    },
    {
     "name": "stdout",
     "output_type": "stream",
     "text": [
      "Rating Map:\n",
      "fico_bucket\n",
      "2    525.300226\n",
      "4    585.141947\n",
      "0    631.830043\n",
      "1    677.783599\n",
      "3    734.877804\n",
      "Name: fico_score, dtype: float64\n"
     ]
    }
   ],
   "source": [
    "import pandas as pd\n",
    "import numpy as np\n",
    "from sklearn.cluster import KMeans\n",
    "\n",
    "# Load the data from CSV\n",
    "data = pd.read_csv(\"C:\\\\Users\\\\user\\\\Downloads\\\\Task 3 and 4_Loan_Data.csv\")  # Replace 'your_data.csv' with the actual file path\n",
    "\n",
    "# Select FICO scores for quantization\n",
    "fico_scores = data['fico_score'].values.reshape(-1, 1)\n",
    "\n",
    "# Choose the number of buckets (clusters)\n",
    "num_buckets = 5\n",
    "\n",
    "# Apply KMeans clustering to find bucket boundaries\n",
    "kmeans = KMeans(n_clusters=num_buckets, random_state=42)\n",
    "data['fico_bucket'] = kmeans.fit_predict(fico_scores)\n",
    "\n",
    "# Create a rating map\n",
    "rating_map = data.groupby('fico_bucket')['fico_score'].mean().sort_values()\n",
    "\n",
    "print(\"Rating Map:\")\n",
    "print(rating_map)\n"
   ]
  },
  {
   "cell_type": "code",
   "execution_count": 3,
   "id": "be410f7e",
   "metadata": {},
   "outputs": [],
   "source": [
    "# Pseudocode for maximizing log-likelihood\n",
    "def maximize_log_likelihood(data, num_buckets):\n",
    "    # Split FICO scores into initial buckets\n",
    "    initial_buckets = split_into_buckets(data['fico_score'], num_buckets)\n",
    "\n",
    "    while len(initial_buckets) < num_buckets:\n",
    "        # Find the best split point based on log-likelihood\n",
    "        split_point = find_best_split(data, initial_buckets)\n",
    "\n",
    "        # Update initial_buckets with the new split_point\n",
    "        initial_buckets = update_buckets(initial_buckets, split_point)\n",
    "\n",
    "    return initial_buckets"
   ]
  },
  {
   "cell_type": "code",
   "execution_count": null,
   "id": "f8fb74d3",
   "metadata": {},
   "outputs": [],
   "source": []
  }
 ],
 "metadata": {
  "kernelspec": {
   "display_name": "Python 3 (ipykernel)",
   "language": "python",
   "name": "python3"
  },
  "language_info": {
   "codemirror_mode": {
    "name": "ipython",
    "version": 3
   },
   "file_extension": ".py",
   "mimetype": "text/x-python",
   "name": "python",
   "nbconvert_exporter": "python",
   "pygments_lexer": "ipython3",
   "version": "3.11.5"
  }
 },
 "nbformat": 4,
 "nbformat_minor": 5
}
